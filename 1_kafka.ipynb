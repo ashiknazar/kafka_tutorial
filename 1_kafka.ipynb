{
 "cells": [
  {
   "cell_type": "markdown",
   "id": "c0ce5701",
   "metadata": {},
   "source": [
    "- apche kafka is an open source distributed event streaming platform ."
   ]
  },
  {
   "cell_type": "markdown",
   "id": "b2f5a0c5",
   "metadata": {},
   "source": [
    "- kafka is designed to scale horizontally\n",
    "  - we add more nodes,we take same size of that and we are  more of that   "
   ]
  },
  {
   "cell_type": "markdown",
   "id": "42601713",
   "metadata": {},
   "source": [
    " - scaling vertically means making the nodes more stronger"
   ]
  },
  {
   "cell_type": "markdown",
   "id": "c9195431",
   "metadata": {},
   "source": [
    "___"
   ]
  },
  {
   "cell_type": "markdown",
   "id": "eecc45ae",
   "metadata": {},
   "source": [
    "- kafka is based on the concept of a log called **topic**\n",
    "- events added into topic are immutable(can only appended at end of log)\n",
    "- (if need to change producer have to submit new event to that topic)\n",
    "- **producer**  is(can be a process,application, another data pipeline) responsible for inserting new events into topic\n",
    "- **consumer** reads\n",
    "- even if a consumer reads an event it is not deleted\n",
    "- kafka keeps track of offset\n",
    "   - if multiple consumers ,kafka knows which event is already ready by which"
   ]
  },
  {
   "cell_type": "markdown",
   "id": "e9115ae5",
   "metadata": {},
   "source": []
  }
 ],
 "metadata": {
  "language_info": {
   "name": "python"
  }
 },
 "nbformat": 4,
 "nbformat_minor": 5
}
